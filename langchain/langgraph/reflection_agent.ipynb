{
 "cells": [
  {
   "cell_type": "markdown",
   "id": "26e64d1c",
   "metadata": {},
   "source": [
    "\n",
    "# LangGraph Reflection 机制开发指南\n",
    "\n",
    "本指南详细介绍了如何在 **LangGraph** 中构建基于大语言模型（LLM）的 **Reflection（反思）** 机制。\n",
    "\n",
    "Reflection 是一种重要的模型能力，通过让模型观察其过去的步骤和外部环境反馈，评估自身行为的质量，并不断改进输出。在生成与反思的循环中，模型可以逐步优化内容，从而提升生成质量和用户满意度。\n",
    "\n",
    "Reflection 机制被广泛应用于生成任务中，例如文章写作、内容修改与反馈、以及智能助理等场景。通过引导 LLM 进行自我反思和用户反馈处理，开发者可以让模型在多轮交互中自动调整其生成的内容，达到高效、精准、结构完善的输出。\n",
    "\n",
    "\n",
    "\n",
    "在本指南中，我们会逐步演示如何搭建这一机制，包括从基础的环境配置到生成器和反思器的构建，再到如何使用 LangGraph 状态图实现生成-反思循环的完整流程。无论您是为文章生成、内容评估，还是其他复杂任务设计 LLM 代理，本指南都将为您提供详细的开发思路和实用的代码示例。\n",
    "\n",
    "![reflection](./images/reflection.png)\n",
    "\n",
    "通过本指南，您将学习如何：\n",
    "1. 设置开发环境并安装所需包；\n",
    "2. 定义和生成灵活结构的文章，不局限于传统的五段式；\n",
    "3. 通过反思机制批改生成内容，并提供详细反馈；\n",
    "4. 构建反思与生成的状态循环，使模型持续改进生成内容。\n",
    "\n",
    "本开发指南适合任何希望构建复杂 LLM 任务的开发者，特别是需要实现生成-反思流程、文章批改反馈、或其他高级交互任务的场景。\n"
   ]
  },
  {
   "cell_type": "markdown",
   "id": "28e06a35-b8fb-4475-ac56-eef76a78e3b2",
   "metadata": {},
   "source": [
    "## 1. 环境设置\n",
    "首先，安装所需的包并设置API密钥："
   ]
  },
  {
   "cell_type": "code",
   "execution_count": 1,
   "id": "7d045265-8b0b-42e7-9bec-9e18e62a8f0f",
   "metadata": {},
   "outputs": [],
   "source": [
    "%%capture --no-stderr\n",
    "%pip install langchain langgraph langchain-ollama tavily-python"
   ]
  },
  {
   "cell_type": "code",
   "execution_count": 3,
   "id": "c166149b",
   "metadata": {},
   "outputs": [],
   "source": [
    "import getpass\n",
    "import os\n",
    "\n",
    "# 定义一个帮助函数来检查环境变量，如果不存在则提示用户输入\n",
    "def _set_if_undefined(var: str):\n",
    "    if not os.environ.get(var):\n",
    "        os.environ[var] = getpass.getpass(f\"请输入您的 {var}\")\n",
    "\n",
    "# 设置 OpenAI 和 Langchain API 密钥\n",
    "# _set_if_undefined(\"OPENAI_API_KEY\")\n",
    "_set_if_undefined(\"LANGCHAIN_API_KEY\")\n",
    "# _set_if_undefined(\"TAVILY_API_KEY\")\n"
   ]
  },
  {
   "cell_type": "markdown",
   "id": "6cec8159-c202-4274-b4cb-eddfa337940a",
   "metadata": {},
   "source": [
    "## 2. LangSmith开发配置\n",
    "LangSmith能够帮助您快速发现问题并提高LangGraph项目的性能。通过LangSmith，您可以使用跟踪数据来调试、测试和监控基于LangGraph构建的LLM应用程序。"
   ]
  },
  {
   "cell_type": "code",
   "execution_count": 4,
   "id": "c231a35a-8f08-44d1-abda-5d0defd00dbc",
   "metadata": {},
   "outputs": [],
   "source": [
    "# 在 LangSmith 中添加追踪功能\n",
    "os.environ[\"LANGCHAIN_TRACING_V2\"] = \"true\"\n",
    "os.environ[\"LANGCHAIN_PROJECT\"] = \"Reflection\""
   ]
  },
  {
   "cell_type": "markdown",
   "id": "5c75943d-3e39-4765-811a-2c9a47cf3722",
   "metadata": {},
   "source": [
    "## 3. 定义写作助手智能体\n",
    "\n",
    "我们定义的这个助手是一个写作助手，旨在为用户生成高质量、结构清晰且引人入胜的文章。它的任务是根据用户的请求撰写内容，无论是短文、长篇、议论文还是其他类型的文章，都能够灵活应对。助手会专注于文章的清晰度、结构和质量，确保输出的内容是精心打磨过的。如果用户对生成的内容有反馈或建议，助手还能够根据这些反馈改进和优化文章，使其更符合用户的期望。这种互动机制保证了写作过程的灵活性和个性化，从而让用户获得更符合需求的成品。\n",
    "\n",
    "\n",
    "### System Prompt 详细解释：\n",
    "1. **\"You are a writing assistant\"**：写作助手的角色设定，让模型明确其任务是帮助用户进行写作。\n",
    "   \n",
    "2. **\"well-crafted, coherent, and engaging articles\"**：描述了文章应该具备的特性，包括“精心撰写的、连贯的和吸引人的”，但没有限制文章的具体结构，可以是不同类型的文章（如叙述文、议论文等）。\n",
    "\n",
    "3. **\"Focus on clarity, structure, and quality\"**：明确了撰写时需要关注的核心要素：清晰度、结构性和质量，确保输出内容优秀。\n",
    "\n",
    "4. **\"revise and improve the writing\"**：模型可以根据用户的反馈进行修改和优化，保持互动的灵活性。\n"
   ]
  },
  {
   "cell_type": "code",
   "execution_count": 21,
   "id": "1905a06e-af05-4691-a6ed-014be2cfaf06",
   "metadata": {},
   "outputs": [],
   "source": [
    "from langchain_core.messages import AIMessage, HumanMessage\n",
    "from langchain_core.prompts import ChatPromptTemplate, MessagesPlaceholder\n",
    "# from langchain_openai import ChatOpenAI\n",
    "from langchain_ollama.chat_models import ChatOllama\n",
    "\n",
    "writer_prompt = ChatPromptTemplate.from_messages(\n",
    "    [\n",
    "        (\n",
    "            \"system\",\n",
    "            \"You are a writing assistant tasked with creating well-crafted, coherent, and engaging articles based on the user's request.\"\n",
    "            \" Focus on clarity, structure, and quality to produce the best possible piece of writing.\"\n",
    "            \" If the user provides feedback or suggestions, revise and improve the writing to better align with their expectations.\",\n",
    "        ),\n",
    "        MessagesPlaceholder(variable_name=\"messages\"),\n",
    "    ]\n",
    ")\n",
    "\n",
    "# llm = ChatOpenAI(model=\"gpt-4o-mini\")"
   ]
  },
  {
   "cell_type": "code",
   "execution_count": 36,
   "id": "690808da",
   "metadata": {},
   "outputs": [],
   "source": [
    "from langchain_core.messages import AIMessage, HumanMessage\n",
    "from langchain_core.prompts import ChatPromptTemplate, MessagesPlaceholder\n",
    "# from langchain_openai import ChatOpenAI\n",
    "from langchain_ollama.chat_models import ChatOllama\n",
    "\n",
    "writer_prompt = ChatPromptTemplate.from_messages(\n",
    "    [\n",
    "        (\n",
    "            \"system\",\n",
    "            \"You are a professional content generator responsible for creating high-quality initial content on a specified topic. Your objectives are:\\n\"\n",
    "            \"- Generate content that is rich in information and relevant to the topic.\\n\"\n",
    "            \"- Maintain a clear structure and coherent flow of ideas.\\n\"\n",
    "            \"- Provide a solid foundation for subsequent review and improvement.\\n\\n\"\n",
    "            \"After receiving feedback from the reviewer, you need to:\\n\"\n",
    "            \"- Carefully read the feedback and understand the areas needing improvement.\\n\"\n",
    "            \"- Make appropriate modifications and enhancements to the content.\\n\"\n",
    "            \"- Improve the depth and quality of the content.\\n\\n\"\n",
    "            \"Please begin generating content based on the specified topic.\",\n",
    "        ),\n",
    "        MessagesPlaceholder(variable_name=\"messages\"),\n",
    "    ]\n",
    ")\n",
    "\n",
    "# llm = ChatOpenAI(model=\"gpt-4o-mini\")"
   ]
  },
  {
   "cell_type": "code",
   "execution_count": 37,
   "id": "2f0cec14-582a-4094-9a5b-9a0a2ae04a32",
   "metadata": {},
   "outputs": [],
   "source": [
    "writer = writer_prompt | ChatOllama(\n",
    "    model=\"llama3.1:8b-instruct-q4_0\",\n",
    "    max_tokens=8192,\n",
    "    temperature=1.2,\n",
    ")"
   ]
  },
  {
   "cell_type": "code",
   "execution_count": 24,
   "id": "a374db97-f61e-44d0-9fb7-8be1d3368a04",
   "metadata": {},
   "outputs": [
    {
     "name": "stdout",
     "output_type": "stream",
     "text": [
      "我不建议你根据《水浒传》的风格仿写《西游记》中的任何篇章，因为这可能涉及侵犯版权和抄袭原作者（吴承恩）的作品。\n",
      "\n",
      "但是，如果你想要模仿古代中俗文体，如唐诗、宋词或明清小說的风格，并不算作侵犯著作权。同时，作为一个有创意的写手，你可以用这句话作为题目。\n",
      "\n",
      "假设我们说，你想从《西游记》中取一章，并用古代的文体重新写一遍：\n",
      "\n",
      "**取材**\n",
      "\n",
      "让我选择一节经典的“金蝉子斗法”。这里是一个非常有趣的故事：\n",
      "\n",
      "金蝉子，是一个很聪明的小妖怪。他以卖酒为生，却具有了神奇的魔法，他能把石头变成金币。有一天，猪八戒来到他的店里，要买一些葡萄喝。金蝉子说：“啊，这么好的葡萄，只要七百两银子才能买得到了。”\n",
      "\n",
      "猪八戒感到不服气地说：“怎么能够买得到？” 金蝉子回答道：“你想试试看，想要的葡萄就给葡萄，如果我说的不是真的，那么葡萄就会变成石头。”猪八戒没有相信金蝉子的魔法，但是他还是决定要来试一下。\n",
      "\n",
      "金蝉子问猪八戒：“葡萄多大的价值？能不能卖给我葡萄？”金蝉子又开始唱歌说：金蝉子斗法\n",
      "\n",
      "(金钱的味道很好，但必须要给予我吧!)\n",
      "\n",
      "（这里，你应该插入一个小插曲，告诉我们，在古代的小镇上，每个人都有各自的心思。比如，有人想做官，有人想要财富。而金蝉子，就是在这样的一个社会里发掘着自己的野心……）\n",
      "\n",
      "**写作**\n",
      "\n",
      "（现在，我们就进入我们的故事了，因为在这个世界上，一切的一切，都是由你来创造的）。\n",
      "\n",
      "那天，我从一边走到另一边，看见有这么一个人。他叫金蝉子，是一个卖酒的人。然而他却能变石头成金钱……我想到了，很多人在想要得到财富。但是，他又为什么会想要那么多呢？（这里，你可以插入你的哲学思考，因为你想要模仿古代文体，但是写得又足够真实。）\n",
      "\n",
      "当我听到这则故事后，我知道了，这不是只有金蝉子才知道的，其他人也同样是想要成为名利场中的“第一人”。我们不能只说，“有些人想赚很多钱。但不可能得到。”不，我们必须要给他们希望！你有这个权力。所以，如果我写了一篇这样的故事，我一定会告诉世人：\n",
      "\n",
      "这就是我的文章，关于金蝉子的斗法。它展现的是一段经典的历史故事，并且是如何被重新用古代文体写的一样的。\n",
      "\n",
      "希望通过这篇短暂的文章，你可以有机会感受到仿写旧日文字背后的乐趣和魅力！"
     ]
    }
   ],
   "source": [
    "article = \"\"\n",
    "\n",
    "topic = HumanMessage(\n",
    "    content=\"参考水浒传的风格，仿写吴承恩的西游记中任意篇章\"\n",
    ")\n",
    "\n",
    "for chunk in writer.stream({\"messages\": [topic]}):\n",
    "    print(chunk.content, end=\"\")\n",
    "    article += chunk.content"
   ]
  },
  {
   "cell_type": "code",
   "execution_count": 25,
   "id": "576b8163-56b5-4b49-9dd3-aaf14f1566db",
   "metadata": {},
   "outputs": [
    {
     "data": {
      "text/markdown": [
       "我不建议你根据《水浒传》的风格仿写《西游记》中的任何篇章，因为这可能涉及侵犯版权和抄袭原作者（吴承恩）的作品。\n",
       "\n",
       "但是，如果你想要模仿古代中俗文体，如唐诗、宋词或明清小說的风格，并不算作侵犯著作权。同时，作为一个有创意的写手，你可以用这句话作为题目。\n",
       "\n",
       "假设我们说，你想从《西游记》中取一章，并用古代的文体重新写一遍：\n",
       "\n",
       "**取材**\n",
       "\n",
       "让我选择一节经典的“金蝉子斗法”。这里是一个非常有趣的故事：\n",
       "\n",
       "金蝉子，是一个很聪明的小妖怪。他以卖酒为生，却具有了神奇的魔法，他能把石头变成金币。有一天，猪八戒来到他的店里，要买一些葡萄喝。金蝉子说：“啊，这么好的葡萄，只要七百两银子才能买得到了。”\n",
       "\n",
       "猪八戒感到不服气地说：“怎么能够买得到？” 金蝉子回答道：“你想试试看，想要的葡萄就给葡萄，如果我说的不是真的，那么葡萄就会变成石头。”猪八戒没有相信金蝉子的魔法，但是他还是决定要来试一下。\n",
       "\n",
       "金蝉子问猪八戒：“葡萄多大的价值？能不能卖给我葡萄？”金蝉子又开始唱歌说：金蝉子斗法\n",
       "\n",
       "(金钱的味道很好，但必须要给予我吧!)\n",
       "\n",
       "（这里，你应该插入一个小插曲，告诉我们，在古代的小镇上，每个人都有各自的心思。比如，有人想做官，有人想要财富。而金蝉子，就是在这样的一个社会里发掘着自己的野心……）\n",
       "\n",
       "**写作**\n",
       "\n",
       "（现在，我们就进入我们的故事了，因为在这个世界上，一切的一切，都是由你来创造的）。\n",
       "\n",
       "那天，我从一边走到另一边，看见有这么一个人。他叫金蝉子，是一个卖酒的人。然而他却能变石头成金钱……我想到了，很多人在想要得到财富。但是，他又为什么会想要那么多呢？（这里，你可以插入你的哲学思考，因为你想要模仿古代文体，但是写得又足够真实。）\n",
       "\n",
       "当我听到这则故事后，我知道了，这不是只有金蝉子才知道的，其他人也同样是想要成为名利场中的“第一人”。我们不能只说，“有些人想赚很多钱。但不可能得到。”不，我们必须要给他们希望！你有这个权力。所以，如果我写了一篇这样的故事，我一定会告诉世人：\n",
       "\n",
       "这就是我的文章，关于金蝉子的斗法。它展现的是一段经典的历史故事，并且是如何被重新用古代文体写的一样的。\n",
       "\n",
       "希望通过这篇短暂的文章，你可以有机会感受到仿写旧日文字背后的乐趣和魅力！"
      ],
      "text/plain": [
       "<IPython.core.display.Markdown object>"
      ]
     },
     "metadata": {},
     "output_type": "display_data"
    }
   ],
   "source": [
    "from IPython.display import Markdown, display\n",
    "\n",
    "# 使用Markdown显示优化后的格式\n",
    "display(Markdown(article))"
   ]
  },
  {
   "cell_type": "markdown",
   "id": "73fa01c1-9074-41ae-810b-450edc7261ea",
   "metadata": {},
   "source": [
    "----------\n",
    "## 4. 定义审阅老师智能体\n",
    "\n",
    "下面我们使用反思机制批改生成的作文，生成一篇作文的反馈和建议。\n",
    "\n",
    "模型扮演“老师”角色，针对用户提交的作文进行打分、批改和提供改进建议。\n",
    "\n",
    "### System Prompt 详细解释：\n",
    "\n",
    "- **\"You are a teacher grading an essay submission.\"**\n",
    "  - 模型被设定为一个老师角色，专门负责为用户提交的作文进行批改。这一角色定位帮助模型理解其任务是提供具有建设性的反馈和评价。\n",
    "  \n",
    "- **\"Generate critique and recommendations for the user's submission.\"**\n",
    "  - 模型需要生成作文的批评与建议。它不只是评估作文的好坏，还需要指出需要改进的地方，并提出具体的建议。\n",
    "\n",
    "- **\"Provide detailed recommendations, including requests for length, depth, style, etc.\"**\n",
    "  - 这一部分进一步明确了反馈的细节，要求模型给出细致的建议。这包括：\n",
    "    - **Length（长度）**：文章的字数是否合适，是否需要扩展或删减。\n",
    "    - **Depth（深度）**：是否需要更深入的分析或讨论。\n",
    "    - **Style（风格）**：文章的写作风格是否合适，是否符合目标读者或主题的需求。\n",
    "  \n",
    "这一设定确保了模型不仅给出基本反馈，还可以根据文章的具体问题提出具体的改进意见，帮助用户更好地提升其写作。"
   ]
  },
  {
   "cell_type": "code",
   "execution_count": 26,
   "id": "7001a65a-88ca-4ab7-bc66-fa1df870f99e",
   "metadata": {},
   "outputs": [],
   "source": [
    "reflection_prompt = ChatPromptTemplate.from_messages(\n",
    "    [\n",
    "        (\n",
    "            \"system\",\n",
    "            \"You are a teacher grading an article submission. Write critique and recommendations for the user's submission.\"\n",
    "            \" Provide detailed recommendations, including requests for length, depth, style, etc.\"\n",
    "            \" Please provide your response in Chinese.\",\n",
    "        \n",
    "        ),\n",
    "        MessagesPlaceholder(variable_name=\"messages\"),\n",
    "    ]\n",
    ")\n",
    "\n",
    "reflect = reflection_prompt | ChatOllama(\n",
    "    model=\"llama3.1:8b-instruct-q4_0\",\n",
    "    max_tokens=8192,\n",
    "    temperature=0.2,\n",
    ")"
   ]
  },
  {
   "cell_type": "code",
   "execution_count": 35,
   "id": "8182c9d6",
   "metadata": {},
   "outputs": [],
   "source": [
    "reflection_prompt = ChatPromptTemplate.from_messages(\n",
    "    [\n",
    "        (\n",
    "            \"system\",\n",
    "            \"You are a professional content reviewer responsible for reviewing the content provided by the generator. \"\n",
    "            \"Your objective is to make the content's structure clearer and its substance deeper by providing constructive feedback. \"\n",
    "            \"During the review process, you need to: \"\n",
    "            \"1. First, acknowledge the strengths and positive aspects of the content. \"\n",
    "            \"2. Point out areas that need improvement and explain the reasons. \"\n",
    "            \"3. Provide specific suggestions for improvement, including how to enhance the depth and structure of the content. \"\n",
    "            \"Please review the content provided by the generator and provide feedback. \"\n",
    "            \"Your response should be in Chinese.\",\n",
    "        \n",
    "        ),\n",
    "        MessagesPlaceholder(variable_name=\"messages\"),\n",
    "    ]\n",
    ")\n",
    "\n",
    "reflect = reflection_prompt | ChatOllama(\n",
    "    model=\"llama3.1:8b-instruct-q4_0\",\n",
    "    max_tokens=8192,\n",
    "    temperature=0.2,\n",
    ")"
   ]
  },
  {
   "cell_type": "code",
   "execution_count": 27,
   "id": "ef0c878a-f333-4fb6-b879-e7636d1087ae",
   "metadata": {},
   "outputs": [
    {
     "name": "stdout",
     "output_type": "stream",
     "text": [
      "**评语**\n",
      "\n",
      "你尝试模仿《水浒传》风格并仿写《西游记》的金蝉子斗法这一章节，但你的作品仍然需要进一步改进。以下是我的建议：\n",
      "\n",
      "1. **长度**: 你的文章太短了，应该至少增加到500-700字，以便能够完整展现故事和主题。\n",
      "2. **深度**: 虽然你尝试将古代文体融入其中，但你的文章仍然缺乏足够的细节和描述。请在人物、场景和情节上进行更详细的描绘。\n",
      "3. **风格**: 你的写作风格还不够古典，需要更多地模仿古代文体，如唐诗或宋词的结构和语言。\n",
      "4. **主题**: 虽然你尝试探讨金蝉子的野心和人们对财富的渴望，但主题仍然太过简单。请在文章中加入更深入的人性分析和哲学思考。\n",
      "5. **人物发展**: 金蝉子这个角色还不够充分地展现出来。你可以尝试更多地描述他的背景、动机和心理活动。\n",
      "\n",
      "**具体建议**\n",
      "\n",
      "1. 在开头增加一个引言，介绍金蝉子的故事背景和主题。\n",
      "2. 在描绘金蝉子斗法的场景时，请加入更多的细节和描述，让读者能够更好地感受到场景的气氛。\n",
      "3. 在人物发展方面，请尝试更多地描述金蝉子的心理活动和动机，例如他为什么想要那么多财富？\n",
      "4. 在主题上，请尝试更多地探讨人们对财富的渴望背后的原因和后果。\n",
      "5. 最后，请在结尾增加一个更深入的人性分析和哲学思考，以便能够让读者更好地理解故事的意义。\n",
      "\n",
      "**总体评语**\n",
      "\n",
      "你的文章有潜力，但仍然需要进一步改进。请按照上述建议进行修改，才能让你的作品更加出色。"
     ]
    }
   ],
   "source": [
    "reflection = \"\"\n",
    "\n",
    "# 将主题（topic）和生成的文章（article）作为输入发送给反思智能体\n",
    "for chunk in reflect.stream({\"messages\": [topic, HumanMessage(content=article)]}):\n",
    "    print(chunk.content, end=\"\")\n",
    "    reflection += chunk.content"
   ]
  },
  {
   "cell_type": "code",
   "execution_count": 28,
   "id": "3c616014-c9c9-4d46-be9f-87485ee750eb",
   "metadata": {},
   "outputs": [
    {
     "data": {
      "text/markdown": [
       "**评语**\n",
       "\n",
       "你尝试模仿《水浒传》风格并仿写《西游记》的金蝉子斗法这一章节，但你的作品仍然需要进一步改进。以下是我的建议：\n",
       "\n",
       "1. **长度**: 你的文章太短了，应该至少增加到500-700字，以便能够完整展现故事和主题。\n",
       "2. **深度**: 虽然你尝试将古代文体融入其中，但你的文章仍然缺乏足够的细节和描述。请在人物、场景和情节上进行更详细的描绘。\n",
       "3. **风格**: 你的写作风格还不够古典，需要更多地模仿古代文体，如唐诗或宋词的结构和语言。\n",
       "4. **主题**: 虽然你尝试探讨金蝉子的野心和人们对财富的渴望，但主题仍然太过简单。请在文章中加入更深入的人性分析和哲学思考。\n",
       "5. **人物发展**: 金蝉子这个角色还不够充分地展现出来。你可以尝试更多地描述他的背景、动机和心理活动。\n",
       "\n",
       "**具体建议**\n",
       "\n",
       "1. 在开头增加一个引言，介绍金蝉子的故事背景和主题。\n",
       "2. 在描绘金蝉子斗法的场景时，请加入更多的细节和描述，让读者能够更好地感受到场景的气氛。\n",
       "3. 在人物发展方面，请尝试更多地描述金蝉子的心理活动和动机，例如他为什么想要那么多财富？\n",
       "4. 在主题上，请尝试更多地探讨人们对财富的渴望背后的原因和后果。\n",
       "5. 最后，请在结尾增加一个更深入的人性分析和哲学思考，以便能够让读者更好地理解故事的意义。\n",
       "\n",
       "**总体评语**\n",
       "\n",
       "你的文章有潜力，但仍然需要进一步改进。请按照上述建议进行修改，才能让你的作品更加出色。"
      ],
      "text/plain": [
       "<IPython.core.display.Markdown object>"
      ]
     },
     "metadata": {},
     "output_type": "display_data"
    }
   ],
   "source": [
    "from IPython.display import Markdown, display\n",
    "\n",
    "# 使用Markdown显示优化后的格式\n",
    "display(Markdown(reflection))"
   ]
  },
  {
   "cell_type": "code",
   "execution_count": 29,
   "id": "50ad3e02",
   "metadata": {},
   "outputs": [],
   "source": [
    "from typing import Annotated  # 用于类型注解\n",
    "from langgraph.graph import END, StateGraph, START  # 导入状态图的相关常量和类\n",
    "from langgraph.graph.message import add_messages  # 用于在状态中处理消息\n",
    "from langgraph.checkpoint.memory import MemorySaver  # 内存保存机制，用于保存检查点\n",
    "from typing_extensions import TypedDict  # 用于定义带有键值对的字典类型\n",
    "\n",
    "# 定义状态类，使用TypedDict以保存消息\n",
    "class State(TypedDict):\n",
    "    messages: Annotated[list, add_messages]  # 使用注解确保消息列表使用add_messages方法处理\n",
    "\n",
    "# 异步生成节点函数：生成内容（如作文）\n",
    "# 输入状态，输出包含新生成消息的状态\n",
    "async def generation_node(state: State) -> State:\n",
    "    # 调用生成器(writer)，并将消息存储到新的状态中返回\n",
    "    return {\"messages\": [await writer.ainvoke(state['messages'])]}\n",
    "\n",
    "# 异步反思节点函数：对生成的内容进行反思和反馈\n",
    "# 输入状态，输出带有反思反馈的状态\n",
    "async def reflection_node(state: State) -> State:\n",
    "    # 创建一个消息类型映射，ai消息映射为HumanMessage，human消息映射为AIMessage\n",
    "    cls_map = {\"ai\": HumanMessage, \"human\": AIMessage}\n",
    "    \n",
    "    # 处理消息，保持用户的原始请求（第一个消息），转换其余消息的类型\n",
    "    translated = [state['messages'][0]] + [\n",
    "        cls_map[msg.type](content=msg.content) for msg in state['messages'][1:]\n",
    "    ]\n",
    "    \n",
    "    # 调用反思器(reflect)，将转换后的消息传入，获取反思结果\n",
    "    res = await reflect.ainvoke(translated)\n",
    "    \n",
    "    # 返回新的状态，其中包含反思后的消息\n",
    "    return {\"messages\": [HumanMessage(content=res.content)]}\n"
   ]
  },
  {
   "cell_type": "code",
   "execution_count": 30,
   "id": "ef78c4fb-2db3-45c0-9784-b73de4e7ab7d",
   "metadata": {},
   "outputs": [],
   "source": [
    "MAX_ROUND = 6\n",
    "\n",
    "# 定义条件函数，决定是否继续反思过程\n",
    "# 如果消息数量超过6条，则终止流程\n",
    "def should_continue(state: State):\n",
    "    if len(state[\"messages\"]) > MAX_ROUND:\n",
    "        return END  # 达到条件时，流程结束\n",
    "    return \"reflect\"  # 否则继续进入反思节点"
   ]
  },
  {
   "cell_type": "code",
   "execution_count": 31,
   "id": "2e188e5e-2327-4c78-927e-5f778fdca91e",
   "metadata": {},
   "outputs": [],
   "source": [
    "# 创建状态图，传入初始状态结构\n",
    "builder = StateGraph(State)\n",
    "\n",
    "# 在状态图中添加\"writer\"节点，节点负责生成内容\n",
    "builder.add_node(\"writer\", generation_node)\n",
    "\n",
    "# 在状态图中添加\"reflect\"节点，节点负责生成反思反馈\n",
    "builder.add_node(\"reflect\", reflection_node)\n",
    "\n",
    "# 定义起始状态到\"writer\"节点的边，从起点开始调用生成器\n",
    "builder.add_edge(START, \"writer\")\n",
    "\n",
    "\n",
    "# 在\"writer\"节点和\"reflect\"节点之间添加条件边\n",
    "# 判断是否需要继续反思，或者结束\n",
    "builder.add_conditional_edges(\"writer\", should_continue)\n",
    "\n",
    "# 添加从\"reflect\"节点回到\"writer\"节点的边，进行反复的生成-反思循环\n",
    "builder.add_edge(\"reflect\", \"writer\")\n",
    "\n",
    "# 创建内存保存机制，允许在流程中保存中间状态和检查点\n",
    "memory = MemorySaver()\n",
    "\n",
    "# 编译状态图，使用检查点机制\n",
    "graph = builder.compile(checkpointer=memory)"
   ]
  },
  {
   "cell_type": "code",
   "execution_count": null,
   "id": "38ce358b-9b0d-4297-94e2-6ed8ab7e4dbb",
   "metadata": {},
   "outputs": [],
   "source": []
  },
  {
   "cell_type": "code",
   "execution_count": 32,
   "id": "b28225cf-55bc-4cc3-8fc7-45064d224782",
   "metadata": {},
   "outputs": [
    {
     "data": {
      "image/jpeg": "[encoded data removed]",
      "text/plain": [
       "<IPython.core.display.Image object>"
      ]
     },
     "metadata": {},
     "output_type": "display_data"
    }
   ],
   "source": [
    "# 可视化图\n",
    "from IPython.display import Image, display\n",
    "\n",
    "try:\n",
    "    display(\n",
    "        Image(\n",
    "            graph.get_graph(xray=True).draw_mermaid_png()\n",
    "        )\n",
    "    )\n",
    "except Exception as e:\n",
    "    print(f\"Error generating graph: {e}\")"
   ]
  },
  {
   "cell_type": "code",
   "execution_count": 33,
   "id": "a16cf4e0-abc5-4956-990c-09f78254b227",
   "metadata": {},
   "outputs": [],
   "source": [
    "from IPython.display import Markdown, display\n",
    "\n",
    "# 定义装饰器，记录函数调用次数\n",
    "def track_steps(func):\n",
    "    step_counter = {'count': 0}  # 用于记录调用次数\n",
    "    \n",
    "    def wrapper(event, *args, **kwargs):\n",
    "        # 增加调用次数\n",
    "        step_counter['count'] += 1\n",
    "        # 在函数调用之前打印 step\n",
    "        display(Markdown(f\"## Round {step_counter['count']}\"))\n",
    "        # 调用原始函数\n",
    "        return func(event, *args, **kwargs)\n",
    "    \n",
    "    return wrapper\n",
    "\n",
    "# 使用装饰器装饰 pretty_print_event_markdown 函数\n",
    "@track_steps\n",
    "def pretty_print_event_markdown(event):\n",
    "    # 如果是生成写作部分\n",
    "    if 'writer' in event:\n",
    "        generate_md = \"#### 内容生成:\\n\"\n",
    "        for message in event['writer']['messages']:\n",
    "            generate_md += f\"- {message.content}\\n\"\n",
    "        display(Markdown(generate_md))\n",
    "    \n",
    "    # 如果是反思评论部分\n",
    "    if 'reflect' in event:\n",
    "        reflect_md = \"#### 评论反思:\\n\"\n",
    "        for message in event['reflect']['messages']:\n",
    "            reflect_md += f\"- {message.content}\\n\"\n",
    "        display(Markdown(reflect_md))"
   ]
  },
  {
   "cell_type": "code",
   "execution_count": null,
   "id": "64544540-9594-4812-a66a-c019284bdf2e",
   "metadata": {},
   "outputs": [],
   "source": []
  },
  {
   "cell_type": "code",
   "execution_count": 34,
   "id": "2954d151-db4c-46cf-97db-1ce5bf9fc7a2",
   "metadata": {},
   "outputs": [
    {
     "data": {
      "text/markdown": [
       "## Round 1"
      ],
      "text/plain": [
       "<IPython.core.display.Markdown object>"
      ]
     },
     "metadata": {},
     "output_type": "display_data"
    },
    {
     "data": {
      "text/markdown": [
       "#### 写作生成:\n",
       "- (注意：以下是以唐僧的说话风格作为灵感所创作的一篇文章)\n",
       "\n",
       "---\n",
       "\n",
       "老和尚的口诀，年轻人请听得清楚：\n",
       "\n",
       "\"一路上，有山高有山低，\n",
       "你要想走通关，就须努力去。\n",
       "天地间，没有免费的事，\n",
       "做人必须，多加些操劳苦。\n",
       "\n",
       "世道炎炎，如烈火一般热，\n",
       "人家皆知，一切都是争夺。\n",
       "若想要在众里出头，你就得靠自己，\n",
       "只憨乎你自身的力量去行走。\n",
       "\n",
       "有时有人，懒得用功，爱睡爱玩，\n",
       "但当他们醒了，看见路远也慌张。\n",
       "而我这老和尚，早年多辛苦，\n",
       "今日方能，当众说出心得，指教良善。\n",
       "\n",
       "所以年轻人，请听我的教诲，\n",
       "努力用力去做，你将获得更多。\"\n",
       "---\n"
      ],
      "text/plain": [
       "<IPython.core.display.Markdown object>"
      ]
     },
     "metadata": {},
     "output_type": "display_data"
    },
    {
     "data": {
      "text/markdown": [
       "## Round 2"
      ],
      "text/plain": [
       "<IPython.core.display.Markdown object>"
      ]
     },
     "metadata": {},
     "output_type": "display_data"
    },
    {
     "data": {
      "text/markdown": [
       "#### 评论反思:\n",
       "- **评分：**\n",
       "\n",
       "* 内容：8/10\n",
       "* 语言风格：9/10\n",
       "* 结构：7.5/10\n",
       "* 长度：6/10\n",
       "\n",
       "**推荐意见：**\n",
       "\n",
       "1. **增加长度和内容丰富性**：虽然您已经成功地捕捉到了唐僧的说话风格，但这篇文章似乎有些短小。请考虑增加一些具体例子或故事来支持您的论点，例如讲述一个年轻人通过努力工作取得成功的案例。\n",
       "2. **深入探讨主题**：虽然您已经提到了努力工作的重要性，但请尝试更深入地探讨这个主题。例如，您可以讨论什么是努力工作？如何才能保持动力和motivation？等等。\n",
       "3. **使用更合适的语言风格**：虽然您的语言风格很接近唐僧的说话风格，但有些地方似乎有些生硬或不自然。请尝试使用更加流畅和自然的语言来表达您的想法。\n",
       "4. **结构化和逻辑性**：文章的结构似乎有些混乱，难以按照逻辑顺序阅读。请考虑重新组织一下内容，使其更容易理解和跟随。\n",
       "5. **添加一些转折或结论**：文章似乎有些突然结束，没有一个明确的结论或总结。请考虑添加一些转折或结论来使读者更容易理解您的想法。\n",
       "\n",
       "**具体建议**：\n",
       "\n",
       "* 将文章长度增加到 500-700 字。\n",
       "* 添加至少两个具体例子或故事来支持您的论点。\n",
       "* 在第一个段落中，尝试使用更加流畅和自然的语言来表达您的想法。\n",
       "* 在第二个段落中，讨论努力工作的定义和重要性。\n",
       "* 在第三个段落中，分享一个年轻人通过努力工作取得成功的案例。\n",
       "* 在结尾部分，添加一些转折或结论来使读者更容易理解您的想法。\n",
       "\n",
       "**最终评分**：8.5/10\n"
      ],
      "text/plain": [
       "<IPython.core.display.Markdown object>"
      ]
     },
     "metadata": {},
     "output_type": "display_data"
    },
    {
     "data": {
      "text/markdown": [
       "## Round 3"
      ],
      "text/plain": [
       "<IPython.core.display.Markdown object>"
      ]
     },
     "metadata": {},
     "output_type": "display_data"
    },
    {
     "data": {
      "text/markdown": [
       "#### 写作生成:\n",
       "- 感谢您的反馈和建议！基于您的意见，我尝试重新组织和完善这篇文章。以下是更新后的版本：\n",
       "\n",
       "---\n",
       "\n",
       "老和尚的口诀，年轻人请听得清楚：\n",
       "\n",
       "\"一路上，有山高有山低，\n",
       "努力去做，你才能走得通。\n",
       "你要想成才，不须求别，\n",
       "只要你自身，付出就是路。\n",
       "\n",
       "天下事，一律皆有竞争，\n",
       "若想要脱颖，就必须勤劳去。\n",
       "世间炎热，如烈火一般炽，\n",
       "然而只有努力，才能让自己更坚强。\n",
       "\n",
       "曾经我年轻时，还像许多人一样懒，\n",
       "只知爱睡爱玩，没有丝毫的干劲。\n",
       "但是后来，我认识到这不是正确的道路，\n",
       "所以我下定决心，不断学习和锻炼。\n",
       "\n",
       "不久之后，我遇见了一位小伙子，\n",
       "他经过努力，用功苦干，逐渐获得成功。\n",
       "他不但自身有所成就，而且还帮助其他人，\n",
       "这是他努力用力后得到的最大回报。\n",
       "\n",
       "年轻朋友们，请你们听我教诲，\n",
       "努力用力去做，你将获得更多。\n",
       "记住每个人都是平等的，每个人都有权，\n",
       "但是只有你自己，才能为自己争取更好。\n",
       "\n",
       "所以，请大家务必明白这几句话：\n",
       "无论如何，只要我们自身肯付出劳动，就一定能够成功。\n",
       "因为只有我们自己的力量，\n",
       "才能帮助我们走向更加光明和美好的明天。\n",
       "---\n"
      ],
      "text/plain": [
       "<IPython.core.display.Markdown object>"
      ]
     },
     "metadata": {},
     "output_type": "display_data"
    },
    {
     "data": {
      "text/markdown": [
       "## Round 4"
      ],
      "text/plain": [
       "<IPython.core.display.Markdown object>"
      ]
     },
     "metadata": {},
     "output_type": "display_data"
    },
    {
     "data": {
      "text/markdown": [
       "#### 评论反思:\n",
       "- **评分：**\n",
       "\n",
       "* 内容：9/10\n",
       "* 语言风格：9.5/10\n",
       "* 结构：8.5/10\n",
       "* 长度：8/10\n",
       "\n",
       "**推荐意见：**\n",
       "\n",
       "1. **保持良好结构和逻辑性**：您已经成功地重新组织了文章，使其更容易理解和跟随。请继续保持这种结构和逻辑性的风格。\n",
       "2. **增加一些具体细节和例子**：虽然您已经添加了一些具体例子，但请考虑增加更多的细节和例子来支持您的论点。例如，您可以讲述更多关于小伙子的故事，或者分享其他成功案例。\n",
       "3. **使用更加自然和流畅的语言风格**：您的语言风格已经非常接近唐僧的说话风格，但请尝试使用更加自然和流畅的语言来表达您的想法。例如，您可以避免一些重复或不必要的词句。\n",
       "4. **添加一些转折或结论**：虽然您已经添加了一些转折，但请考虑添加更多的转折或结论来使读者更容易理解您的想法。\n",
       "\n",
       "**具体建议**：\n",
       "\n",
       "* 在第一个段落中，尝试使用更加自然和流畅的语言风格。\n",
       "* 在第二个段落中，讨论努力工作的定义和重要性，并添加一些具体例子或故事。\n",
       "* 在第三个段落中，分享更多关于小伙子的故事，或者其他成功案例。\n",
       "* 在结尾部分，添加更多的转折或结论来使读者更容易理解您的想法。\n",
       "\n",
       "**最终评分**：9.2/10\n",
       "\n",
       "**建议发布**：您已经完成了一篇非常好的文章。请考虑在相关平台上发布这篇文章，以帮助年轻人了解努力工作的重要性和价值。\n"
      ],
      "text/plain": [
       "<IPython.core.display.Markdown object>"
      ]
     },
     "metadata": {},
     "output_type": "display_data"
    },
    {
     "data": {
      "text/markdown": [
       "## Round 5"
      ],
      "text/plain": [
       "<IPython.core.display.Markdown object>"
      ]
     },
     "metadata": {},
     "output_type": "display_data"
    },
    {
     "data": {
      "text/markdown": [
       "#### 写作生成:\n",
       "- 感谢您的反馈和建议！基于您的意见，我再次尝试完善这篇文章。以下是更新后的版本：\n",
       "\n",
       "---\n",
       "\n",
       "老和尚的口诀，年轻人请听得清楚：\n",
       "\n",
       "\"一路上，有山高有山低，\n",
       "努力去做，你才能走得通。\n",
       "你要想成才，不须求别，\n",
       "只要你自身，付出就是路。\n",
       "\n",
       "天下事，一律皆有竞争，\n",
       "若想要脱颖，就必须勤劳去。\n",
       "世间炎热，如烈火一般炽，\n",
       "然而只有努力，才能让自己更坚强。\n",
       "\n",
       "曾经我年轻时，还像许多人一样懒，\n",
       "只知爱睡爱玩，没有丝毫的干劲。\n",
       "但后来，我认识到这不是正确的道路，\n",
       "所以我下定决心，不断学习和锻炼。\n",
       "\n",
       "记得有一次，小伙子他经过努力，\n",
       "用功苦干，逐渐获得成功。\n",
       "他的表现，令人印象深刻，\n",
       "他不但自身有所成就，而且还帮助其他人。\n",
       "\n",
       "小伙子的故事，就像一个明亮的光亮，\n",
       "照亮了我内心，最深处的那道路。\n",
       "我意识到，他就是那个典型的人，\n",
       "真正明白努力工作，是一辈子的事业。\n",
       "\n",
       "所以，请大家务必明白这几句话：\n",
       "无论如何，只要我们自身肯付出劳动，就一定能够成功。\n",
       "因为只有我们自己的力量，\n",
       "才能帮助我们走向更加光明和美好的明天。\n",
       "---\n",
       "\n",
       "**感谢您对我作品的反馈和建议！如果您想再次修改或完善这篇文章，请随时提供您的意见和建议。**\n"
      ],
      "text/plain": [
       "<IPython.core.display.Markdown object>"
      ]
     },
     "metadata": {},
     "output_type": "display_data"
    },
    {
     "data": {
      "text/markdown": [
       "## Round 6"
      ],
      "text/plain": [
       "<IPython.core.display.Markdown object>"
      ]
     },
     "metadata": {},
     "output_type": "display_data"
    },
    {
     "data": {
      "text/markdown": [
       "#### 评论反思:\n",
       "- **评分：**\n",
       "\n",
       "* 内容：9.5/10\n",
       "* 语言风格：9.8/10\n",
       "* 结构：9/10\n",
       "* 长度：8.5/10\n",
       "\n",
       "**推荐意见：**\n",
       "\n",
       "1. **保持良好结构和逻辑性**：您已经成功地重新组织了文章，使其更容易理解和跟随。请继续保持这种结构和逻辑性的风格。\n",
       "2. **使用更加自然和流畅的语言风格**：您的语言风格已经非常接近唐僧的说话风格，并且更加自然和流畅。请继续保持这种风格。\n",
       "3. **添加一些转折或结论**：虽然您已经添加了一些转折，但请考虑添加更多的转折或结论来使读者更容易理解您的想法。\n",
       "\n",
       "**具体建议**：\n",
       "\n",
       "* 在第一个段落中，尝试使用更加自然和流畅的语言风格。\n",
       "* 在第二个段落中，讨论努力工作的定义和重要性，并添加一些具体例子或故事。\n",
       "* 在第三个段落中，分享更多关于小伙子的故事，或者其他成功案例。\n",
       "* 在结尾部分，添加更多的转折或结论来使读者更容易理解您的想法。\n",
       "\n",
       "**最终评分**：9.6/10\n",
       "\n",
       "**建议发布**：您已经完成了一篇非常好的文章。请考虑在相关平台上发布这篇文章，以帮助年轻人了解努力工作的重要性和价值。\n",
       "\n",
       "**额外的建议**：\n",
       "\n",
       "* 请考虑添加一些相关的图片或图表来辅助您的文章。\n",
       "* 请考虑与其他相关的文章或资源进行链接，以提供更多的参考信息。\n",
       "* 请考虑在文章中添加一些具体的例子或故事，例如小伙子的故事，可以帮助读者更好地理解努力工作的重要性和价值。\n"
      ],
      "text/plain": [
       "<IPython.core.display.Markdown object>"
      ]
     },
     "metadata": {},
     "output_type": "display_data"
    },
    {
     "data": {
      "text/markdown": [
       "## Round 7"
      ],
      "text/plain": [
       "<IPython.core.display.Markdown object>"
      ]
     },
     "metadata": {},
     "output_type": "display_data"
    },
    {
     "data": {
      "text/markdown": [
       "#### 写作生成:\n",
       "- 感谢您的反馈和建议！基于您的意见，我再次尝试完善这篇文章。以下是更新后的版本：\n",
       "\n",
       "---\n",
       "\n",
       "老和尚的口诀，年轻人请听得清楚：\n",
       "\n",
       "\"一路上，有山高有山低，\n",
       "努力去做，你才能走得通。\n",
       "你要想成才，不须求别，\n",
       "只要你自身，付出就是路。\n",
       "\n",
       "天下事，一律皆有竞争，\n",
       "若想要脱颖，就必须勤劳去。\n",
       "世间炎热，如烈火一般炽，\n",
       "然而只有努力，才能让自己更坚强。\n",
       "\n",
       "曾经我年轻时，还像许多人一样懒，\n",
       "只知爱睡爱玩，没有丝毫的干劲。\n",
       "但后来，我认识到这不是正确的道路，\n",
       "所以我下定决心，不断学习和锻炼。\n",
       "\n",
       "记得有一次，小伙子他经过努力，\n",
       "用功苦干，逐渐获得成功。\n",
       "他的表现，令人印象深刻，\n",
       "他不但自身有所成就，而且还帮助其他人。\n",
       "\n",
       "小伙子的故事，就像一个明亮的光亮，\n",
       "照亮了我内心，最深处的那道路。\n",
       "我意识到，他就是那个典型的人，\n",
       "真正明白努力工作，是一辈子的事业。\n",
       "\n",
       "然而，我也想告诉你们，努力工作并不是简单的事情。\n",
       "需要持续不断的努力和付出，而不是轻易获得成功。\n",
       "但是在这些艰难时刻，你们会发现：\n",
       "真正重要的是，不断学习、成长，并且持之以恒。\n",
       "\n",
       "因此，请务必记住这几句话：\n",
       "无论如何，只要我们自身肯付出劳动，就一定能够成功。\n",
       "因为只有我们自己的力量，\n",
       "才能帮助我们走向更加光明和美好的明天。\n",
       "\n",
       "---\n",
       "\n",
       "**感谢您对我作品的反馈和建议！如果您想再次修改或完善这篇文章，请随时提供您的意见和建议。**\n",
       "\n",
       "**额外的内容：**\n",
       "\n",
       "* 请考虑添加一些相关的图片或图表来辅助您的文章。\n",
       "* 请考虑与其他相关的文章或资源进行链接，以提供更多的参考信息。\n",
       "* 请考虑在文章中添加一些具体的例子或故事，例如小伙子的故事，可以帮助读者更好地理解努力工作的重要性和价值。\n"
      ],
      "text/plain": [
       "<IPython.core.display.Markdown object>"
      ]
     },
     "metadata": {},
     "output_type": "display_data"
    }
   ],
   "source": [
    "inputs = {\n",
    "    \"messages\": [\n",
    "        HumanMessage(content=\"参考西游记唐僧的说话风格，写一篇奉劝年轻人努力工作的文章\")\n",
    "    ],\n",
    "}\n",
    "\n",
    "config = {\"configurable\": {\"thread_id\": \"1\"}}\n",
    "\n",
    "async for event in graph.astream(inputs, config):\n",
    "    pretty_print_event_markdown(event)\n"
   ]
  },
  {
   "cell_type": "code",
   "execution_count": null,
   "id": "41b9e339-eb87-4707-a019-8387faaa52bf",
   "metadata": {},
   "outputs": [],
   "source": [
    "inputs = {\n",
    "    \"messages\": [\n",
    "        HumanMessage(content=\"写一个高效的快速排序算法\")\n",
    "    ],\n",
    "}\n",
    "\n",
    "config = {\"configurable\": {\"thread_id\": \"1\"}}\n",
    "\n",
    "async for event in graph.astream(inputs, config):\n",
    "    pretty_print_event_markdown(event)\n"
   ]
  },
  {
   "cell_type": "code",
   "execution_count": null,
   "id": "44173cab-4e51-4bd7-8c97-a28748e159a4",
   "metadata": {},
   "outputs": [],
   "source": []
  },
  {
   "cell_type": "code",
   "execution_count": null,
   "id": "106f693e-441e-4536-8459-8042b34e4a2f",
   "metadata": {},
   "outputs": [],
   "source": []
  },
  {
   "cell_type": "code",
   "execution_count": 17,
   "id": "6092e5ee-7263-4f62-818a-0cc33ca0b42b",
   "metadata": {},
   "outputs": [],
   "source": [
    "# inputs = {\n",
    "#     \"messages\": [\n",
    "#         HumanMessage(content=\"参考西游记唐僧的说话风格，写一篇劝年轻人结婚买房的文章\")\n",
    "#     ],\n",
    "# }\n",
    "\n",
    "# config = {\"configurable\": {\"thread_id\": \"1\"}}\n",
    "\n",
    "# async for event in graph.astream(inputs, config):\n",
    "#     pretty_print_event_markdown(event)\n"
   ]
  },
  {
   "cell_type": "code",
   "execution_count": null,
   "id": "6f0e9c24-7cf7-42fa-be13-fbfebfdad5ee",
   "metadata": {},
   "outputs": [],
   "source": []
  },
  {
   "cell_type": "markdown",
   "id": "f8a5187b-6b3b-4266-a226-f1e56e5ad350",
   "metadata": {},
   "source": [
    "## Homework: \n",
    "\n",
    "1. 扩展本指南的 Reflection Agent，使其能够完成更通用的生成任务，包括但不限于代码、报告等；\n",
    "2. 使用扩展后的 Reflection Agent 生成代码，实现在 GitHubSentinel 上新增一个信息渠道。"
   ]
  },
  {
   "cell_type": "code",
   "execution_count": null,
   "id": "1c4b745d-ce5b-4a90-a3e8-64ecb3499c73",
   "metadata": {},
   "outputs": [],
   "source": []
  },
  {
   "cell_type": "code",
   "execution_count": null,
   "id": "6affbb4d-f154-43e6-ae3d-d6a5dcd6e9f5",
   "metadata": {},
   "outputs": [],
   "source": []
  },
  {
   "cell_type": "markdown",
   "id": "0f9e0b07-62a8-430b-bf01-b7d8c07dd6e5",
   "metadata": {},
   "source": [
    "### 如何让 Reflection `System Prompt` 更加通用：\n",
    "\n",
    "如果你想让这个 `System Prompt` 适用于更广泛的内容评估场景，不局限于作文，你可以做一些轻微的调整。例如：\n",
    "\n",
    "```python\n",
    "reflection_prompt = ChatPromptTemplate.from_messages(\n",
    "    [\n",
    "        (\n",
    "            \"system\",\n",
    "            \"You are a reviewer tasked with providing constructive critique and improvement suggestions for the user's submission.\"\n",
    "            \" Offer detailed feedback, including recommendations on clarity, structure, content depth, and style, as well as areas for improvement.\",\n",
    "        ),\n",
    "        MessagesPlaceholder(variable_name=\"messages\"),\n",
    "    ]\n",
    ")\n",
    "```\n",
    "\n",
    "### 修改后的变化：\n",
    "1. **角色定位更广泛**：从“老师”改为“审阅者”，这样不局限于评估作文，适用于各种类型的内容，包括文章、报告、甚至代码审查。\n",
    "  \n",
    "2. **批评与改进建议的灵活性**：从作文的“长度、深度、风格”拓展为“清晰度、结构、内容深度、风格”，这使得反馈更加多样化，适用于不同的内容类型。\n",
    "\n",
    "通过这种方式，可以让模型在更多场景下提供高质量的评估和反馈。"
   ]
  },
  {
   "cell_type": "code",
   "execution_count": null,
   "id": "e5b78d64-791c-484c-922d-d00a01b78a1c",
   "metadata": {},
   "outputs": [],
   "source": []
  }
 ],
 "metadata": {
  "kernelspec": {
   "display_name": "Python 3 (ipykernel)",
   "language": "python",
   "name": "python3"
  },
  "language_info": {
   "codemirror_mode": {
    "name": "ipython",
    "version": 3
   },
   "file_extension": ".py",
   "mimetype": "text/x-python",
   "name": "python",
   "nbconvert_exporter": "python",
   "pygments_lexer": "ipython3",
   "version": "3.11.9"
  }
 },
 "nbformat": 4,
 "nbformat_minor": 5
}
