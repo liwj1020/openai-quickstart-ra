{
 "cells": [
  {
   "cell_type": "markdown",
   "id": "26e64d1c",
   "metadata": {},
   "source": [
    "\n",
    "# LangGraph Reflection 机制开发指南\n",
    "\n",
    "本指南详细介绍了如何在 **LangGraph** 中构建基于大语言模型（LLM）的 **Reflection（反思）** 机制。\n",
    "\n",
    "Reflection 是一种重要的模型能力，通过让模型观察其过去的步骤和外部环境反馈，评估自身行为的质量，并不断改进输出。在生成与反思的循环中，模型可以逐步优化内容，从而提升生成质量和用户满意度。\n",
    "\n",
    "Reflection 机制被广泛应用于生成任务中，例如文章写作、内容修改与反馈、以及智能助理等场景。通过引导 LLM 进行自我反思和用户反馈处理，开发者可以让模型在多轮交互中自动调整其生成的内容，达到高效、精准、结构完善的输出。\n",
    "\n",
    "\n",
    "\n",
    "在本指南中，我们会逐步演示如何搭建这一机制，包括从基础的环境配置到生成器和反思器的构建，再到如何使用 LangGraph 状态图实现生成-反思循环的完整流程。无论您是为文章生成、内容评估，还是其他复杂任务设计 LLM 代理，本指南都将为您提供详细的开发思路和实用的代码示例。\n",
    "\n",
    "![reflection](./images/reflection.png)\n",
    "\n",
    "通过本指南，您将学习如何：\n",
    "1. 设置开发环境并安装所需包；\n",
    "2. 定义和生成灵活结构的文章，不局限于传统的五段式；\n",
    "3. 通过反思机制批改生成内容，并提供详细反馈；\n",
    "4. 构建反思与生成的状态循环，使模型持续改进生成内容。\n",
    "\n",
    "本开发指南适合任何希望构建复杂 LLM 任务的开发者，特别是需要实现生成-反思流程、文章批改反馈、或其他高级交互任务的场景。\n"
   ]
  },
  {
   "cell_type": "markdown",
   "id": "28e06a35-b8fb-4475-ac56-eef76a78e3b2",
   "metadata": {},
   "source": [
    "## 1. 环境设置\n",
    "首先，安装所需的包并设置API密钥："
   ]
  },
  {
   "cell_type": "code",
   "execution_count": 1,
   "id": "7d045265-8b0b-42e7-9bec-9e18e62a8f0f",
   "metadata": {},
   "outputs": [],
   "source": [
    "%%capture --no-stderr\n",
    "%pip install langchain langgraph langchain-ollama tavily-python"
   ]
  },
  {
   "cell_type": "code",
   "execution_count": 1,
   "id": "c166149b",
   "metadata": {},
   "outputs": [],
   "source": [
    "import getpass\n",
    "import os\n",
    "\n",
    "# 定义一个帮助函数来检查环境变量，如果不存在则提示用户输入\n",
    "def _set_if_undefined(var: str):\n",
    "    if not os.environ.get(var):\n",
    "        os.environ[var] = getpass.getpass(f\"请输入您的 {var}\")\n",
    "\n",
    "# 设置 OpenAI 和 Langchain API 密钥\n",
    "# _set_if_undefined(\"OPENAI_API_KEY\")\n",
    "_set_if_undefined(\"LANGCHAIN_API_KEY\")\n",
    "# _set_if_undefined(\"TAVILY_API_KEY\")\n"
   ]
  },
  {
   "cell_type": "markdown",
   "id": "6cec8159-c202-4274-b4cb-eddfa337940a",
   "metadata": {},
   "source": [
    "## 2. LangSmith开发配置\n",
    "LangSmith能够帮助您快速发现问题并提高LangGraph项目的性能。通过LangSmith，您可以使用跟踪数据来调试、测试和监控基于LangGraph构建的LLM应用程序。"
   ]
  },
  {
   "cell_type": "code",
   "execution_count": 2,
   "id": "c231a35a-8f08-44d1-abda-5d0defd00dbc",
   "metadata": {},
   "outputs": [],
   "source": [
    "# 在 LangSmith 中添加追踪功能\n",
    "os.environ[\"LANGCHAIN_TRACING_V2\"] = \"true\"\n",
    "os.environ[\"LANGCHAIN_PROJECT\"] = \"Reflection1\""
   ]
  },
  {
   "cell_type": "code",
   "execution_count": 3,
   "id": "690808da",
   "metadata": {},
   "outputs": [],
   "source": [
    "from langchain_core.messages import AIMessage, HumanMessage\n",
    "from langchain_core.prompts import ChatPromptTemplate, MessagesPlaceholder\n",
    "# from langchain_openai import ChatOpenAI\n",
    "from langchain_ollama.chat_models import ChatOllama\n",
    "\n",
    "writer_prompt = ChatPromptTemplate.from_messages(\n",
    "    [\n",
    "        (\n",
    "            \"system\",\n",
    "            \"You are a professional content generator responsible for creating high-quality initial content on a specified topic. Your objectives are:\\n\"\n",
    "            \"- Generate content that is rich in information and relevant to the topic.\\n\"\n",
    "            \"- Maintain a clear structure and coherent flow of ideas.\\n\"\n",
    "            \"- Provide a solid foundation for subsequent review and improvement.\\n\\n\"\n",
    "            \"After receiving feedback from the reviewer, you need to:\\n\"\n",
    "            \"- Carefully read the feedback and understand the areas needing improvement.\\n\"\n",
    "            \"- Make appropriate modifications and enhancements to the content.\\n\"\n",
    "            \"- Improve the depth and quality of the content.\\n\\n\"\n",
    "            \"Please begin generating content based on the specified topic.\",\n",
    "        ),\n",
    "        MessagesPlaceholder(variable_name=\"messages\"),\n",
    "    ]\n",
    ")\n",
    "\n",
    "# llm = ChatOpenAI(model=\"gpt-4o-mini\")"
   ]
  },
  {
   "cell_type": "code",
   "execution_count": 4,
   "id": "2f0cec14-582a-4094-9a5b-9a0a2ae04a32",
   "metadata": {},
   "outputs": [],
   "source": [
    "writer = writer_prompt | ChatOllama(\n",
    "    model=\"llama3.1:8b-instruct-q4_0\",\n",
    "    max_tokens=8192,\n",
    "    temperature=1.2,\n",
    ")"
   ]
  },
  {
   "cell_type": "code",
   "execution_count": 5,
   "id": "8182c9d6",
   "metadata": {},
   "outputs": [],
   "source": [
    "reflection_prompt = ChatPromptTemplate.from_messages(\n",
    "    [\n",
    "        (\n",
    "            \"system\",\n",
    "            \"You are a professional content reviewer responsible for reviewing the content provided by the generator. \"\n",
    "            \"Your objective is to make the content's structure clearer and its substance deeper by providing constructive feedback. \"\n",
    "            \"During the review process, you need to: \"\n",
    "            \"1. First, acknowledge the strengths and positive aspects of the content. \"\n",
    "            \"2. Point out areas that need improvement and explain the reasons. \"\n",
    "            \"3. Provide specific suggestions for improvement, including how to enhance the depth and structure of the content. \"\n",
    "            \"Please review the content provided by the generator and provide feedback. \"\n",
    "            \"Your response should be in Chinese.\",\n",
    "        \n",
    "        ),\n",
    "        MessagesPlaceholder(variable_name=\"messages\"),\n",
    "    ]\n",
    ")\n",
    "\n",
    "reflect = reflection_prompt | ChatOllama(\n",
    "    model=\"llama3.1:8b-instruct-q4_0\",\n",
    "    max_tokens=8192,\n",
    "    temperature=0.2,\n",
    ")"
   ]
  },
  {
   "cell_type": "code",
   "execution_count": 6,
   "id": "50ad3e02",
   "metadata": {},
   "outputs": [],
   "source": [
    "from typing import Annotated  # 用于类型注解\n",
    "from langgraph.graph import END, StateGraph, START  # 导入状态图的相关常量和类\n",
    "from langgraph.graph.message import add_messages  # 用于在状态中处理消息\n",
    "from langgraph.checkpoint.memory import MemorySaver  # 内存保存机制，用于保存检查点\n",
    "from typing_extensions import TypedDict  # 用于定义带有键值对的字典类型\n",
    "\n",
    "# 定义状态类，使用TypedDict以保存消息\n",
    "class State(TypedDict):\n",
    "    messages: Annotated[list, add_messages]  # 使用注解确保消息列表使用add_messages方法处理\n",
    "\n",
    "# 异步生成节点函数：生成内容（如作文）\n",
    "# 输入状态，输出包含新生成消息的状态\n",
    "async def generation_node(state: State) -> State:\n",
    "    # 调用生成器(writer)，并将消息存储到新的状态中返回\n",
    "    return {\"messages\": [await writer.ainvoke(state['messages'])]}\n",
    "\n",
    "# 异步反思节点函数：对生成的内容进行反思和反馈\n",
    "# 输入状态，输出带有反思反馈的状态\n",
    "async def reflection_node(state: State) -> State:\n",
    "    # 创建一个消息类型映射，ai消息映射为HumanMessage，human消息映射为AIMessage\n",
    "    cls_map = {\"ai\": HumanMessage, \"human\": AIMessage}\n",
    "    \n",
    "    # 处理消息，保持用户的原始请求（第一个消息），转换其余消息的类型\n",
    "    translated = [state['messages'][0]] + [\n",
    "        cls_map[msg.type](content=msg.content) for msg in state['messages'][1:]\n",
    "    ]\n",
    "    \n",
    "    # 调用反思器(reflect)，将转换后的消息传入，获取反思结果\n",
    "    res = await reflect.ainvoke(translated)\n",
    "    \n",
    "    # 返回新的状态，其中包含反思后的消息\n",
    "    return {\"messages\": [HumanMessage(content=res.content)]}\n"
   ]
  },
  {
   "cell_type": "code",
   "execution_count": 7,
   "id": "ef78c4fb-2db3-45c0-9784-b73de4e7ab7d",
   "metadata": {},
   "outputs": [],
   "source": [
    "MAX_ROUND = 6\n",
    "\n",
    "# 定义条件函数，决定是否继续反思过程\n",
    "# 如果消息数量超过6条，则终止流程\n",
    "def should_continue(state: State):\n",
    "    if len(state[\"messages\"]) > MAX_ROUND:\n",
    "        return END  # 达到条件时，流程结束\n",
    "    return \"reflect\"  # 否则继续进入反思节点"
   ]
  },
  {
   "cell_type": "code",
   "execution_count": 8,
   "id": "2e188e5e-2327-4c78-927e-5f778fdca91e",
   "metadata": {},
   "outputs": [],
   "source": [
    "# 创建状态图，传入初始状态结构\n",
    "builder = StateGraph(State)\n",
    "\n",
    "# 在状态图中添加\"writer\"节点，节点负责生成内容\n",
    "builder.add_node(\"writer\", generation_node)\n",
    "\n",
    "# 在状态图中添加\"reflect\"节点，节点负责生成反思反馈\n",
    "builder.add_node(\"reflect\", reflection_node)\n",
    "\n",
    "# 定义起始状态到\"writer\"节点的边，从起点开始调用生成器\n",
    "builder.add_edge(START, \"writer\")\n",
    "\n",
    "\n",
    "# 在\"writer\"节点和\"reflect\"节点之间添加条件边\n",
    "# 判断是否需要继续反思，或者结束\n",
    "builder.add_conditional_edges(\"writer\", should_continue)\n",
    "\n",
    "# 添加从\"reflect\"节点回到\"writer\"节点的边，进行反复的生成-反思循环\n",
    "builder.add_edge(\"reflect\", \"writer\")\n",
    "\n",
    "# 创建内存保存机制，允许在流程中保存中间状态和检查点\n",
    "memory = MemorySaver()\n",
    "\n",
    "# 编译状态图，使用检查点机制\n",
    "graph = builder.compile(checkpointer=memory)"
   ]
  },
  {
   "cell_type": "code",
   "execution_count": 9,
   "id": "b28225cf-55bc-4cc3-8fc7-45064d224782",
   "metadata": {},
   "outputs": [
    {
     "data": {
      "image/jpeg": "[encoded data removed]",
      "text/plain": [
       "<IPython.core.display.Image object>"
      ]
     },
     "metadata": {},
     "output_type": "display_data"
    }
   ],
   "source": [
    "# 可视化图\n",
    "from IPython.display import Image, display\n",
    "\n",
    "try:\n",
    "    display(\n",
    "        Image(\n",
    "            graph.get_graph(xray=True).draw_mermaid_png()\n",
    "        )\n",
    "    )\n",
    "except Exception as e:\n",
    "    print(f\"Error generating graph: {e}\")"
   ]
  },
  {
   "cell_type": "code",
   "execution_count": 10,
   "id": "a16cf4e0-abc5-4956-990c-09f78254b227",
   "metadata": {},
   "outputs": [],
   "source": [
    "from IPython.display import Markdown, display\n",
    "\n",
    "# 定义装饰器，记录函数调用次数\n",
    "def track_steps(func):\n",
    "    step_counter = {'count': 0}  # 用于记录调用次数\n",
    "    \n",
    "    def wrapper(event, *args, **kwargs):\n",
    "        # 增加调用次数\n",
    "        step_counter['count'] += 1\n",
    "        # 在函数调用之前打印 step\n",
    "        display(Markdown(f\"## Round {step_counter['count']}\"))\n",
    "        # 调用原始函数\n",
    "        return func(event, *args, **kwargs)\n",
    "    \n",
    "    return wrapper\n",
    "\n",
    "# 使用装饰器装饰 pretty_print_event_markdown 函数\n",
    "@track_steps\n",
    "def pretty_print_event_markdown(event):\n",
    "    # 如果是生成写作部分\n",
    "    if 'writer' in event:\n",
    "        generate_md = \"#### 内容生成:\\n\"\n",
    "        for message in event['writer']['messages']:\n",
    "            generate_md += f\"- {message.content}\\n\"\n",
    "        display(Markdown(generate_md))\n",
    "    \n",
    "    # 如果是反思评论部分\n",
    "    if 'reflect' in event:\n",
    "        reflect_md = \"#### 评论反思:\\n\"\n",
    "        for message in event['reflect']['messages']:\n",
    "            reflect_md += f\"- {message.content}\\n\"\n",
    "        display(Markdown(reflect_md))"
   ]
  },
  {
   "cell_type": "code",
   "execution_count": null,
   "id": "64544540-9594-4812-a66a-c019284bdf2e",
   "metadata": {},
   "outputs": [],
   "source": []
  },
  {
   "cell_type": "code",
   "execution_count": 11,
   "id": "2954d151-db4c-46cf-97db-1ce5bf9fc7a2",
   "metadata": {},
   "outputs": [
    {
     "data": {
      "text/markdown": [
       "## Round 1"
      ],
      "text/plain": [
       "<IPython.core.display.Markdown object>"
      ]
     },
     "metadata": {},
     "output_type": "display_data"
    },
    {
     "data": {
      "text/markdown": [
       "#### 内容生成:\n",
       "- **快速排序算法**\n",
       "\n",
       "快速排序（Quicksort）是一种效率较高的排序算法，平均时间复杂度为O(n log n)。它通过选择一个基准元素，并将其他元素分区到基准元素两边，以实现快速的排序。\n",
       "\n",
       "### 算法流程\n",
       "\n",
       "1. **选取基准元素**：从输入数组中选择一个基准元素。\n",
       "2. **分区**: 将其他元素按照基准元素来划分为两部分，左边所有元素都小于基准元素，右边所有元素都大于基准元素。\n",
       "3. **递归排序**: 对左、右两部分分别执行快速排序算法。\n",
       "\n",
       "### 实现\n",
       "\n",
       "#### 选择基准元素\n",
       "\n",
       "可以使用以下方法选取基准元素：\n",
       "* **第一个元素**：最简单的方法是选取数组中的第一个元素作为基准元素。\n",
       "* **中间元素**：另一种方法是将数组随机化，然后从中间选取一个元素作为基准元素。\n",
       "* **中位数元素**：可以通过将数据按序列排列，然后选择中位数的元素来实现。\n",
       "\n",
       "#### 分区\n",
       "\n",
       "分区算法的实现步骤如下：\n",
       "1.  遍历数组，将所有小于或等于基准元素的元素都放在左边，其他元素都在右边。\n",
       "2.  返回左、右两部分数组的起始索引。\n",
       "\n",
       "### 示例代码（Python）\n",
       "\n",
       "```python\n",
       "def partition(arr, low, high):\n",
       "    \"\"\"\n",
       "    分区函数：选取基准元素，并将数组分成左右两部分。\n",
       "    \n",
       "    Args:\n",
       "        arr (list): 待排序数组。\n",
       "        low (int): 左边起始索引。\n",
       "        high (int): 右边结束索引。\n",
       "        \n",
       "    Returns:\n",
       "        int: 选定的基准元素索引，用于接下来划分左右两部分的过程。\n",
       "    \"\"\"\n",
       "    i = low - 1\n",
       "    pivot = arr[high]\n",
       "    \n",
       "    for j in range(low, high):\n",
       "        # 将比基准元素小或相等的元素移动到左边，大的元素留在右边\n",
       "        if arr[j] <= pivot:\n",
       "            i += 1\n",
       "            arr[i], arr[j] = arr[j], arr[i]\n",
       "            \n",
       "    # 将基准元素放到中间，并交换其与分区过程的结束位置\n",
       "    arr[i + 1], arr[high] = arr[high], arr[i + 1]\n",
       "    \n",
       "    return i + 1\n",
       "\n",
       "\n",
       "def quicksort(arr, low, high):\n",
       "    \"\"\"\n",
       "    快速排序算法：选取基准元素，分区数组，将左右两部分分别递归执行快速排序。\n",
       "    \n",
       "    Args:\n",
       "        arr (list): 待排序数组。\n",
       "        low (int): 左边起始索引。\n",
       "        high (int): 右边结束索引。\n",
       "        \n",
       "    Returns:\n",
       "        list: 排序后的数组。\n",
       "    \"\"\"\n",
       "    if low < high:\n",
       "        # 分区后，将基准元素移动到正确位置\n",
       "        pivot_index = partition(arr, low, high)\n",
       "        \n",
       "        # 递归执行快速排序，对左右两部分进行递归操作\n",
       "        quicksort(arr, low, pivot_index - 1)\n",
       "        quicksort(arr, pivot_index + 1, high)\n",
       "    \n",
       "    return arr\n",
       "\n",
       "\n",
       "# 主函数：测试和使用快速排序算法的主入口。\n",
       "def main():\n",
       "    arr = [64, 34, 25, 12, 22, 11, 90]\n",
       "    print(\"未排序数组： \", arr)\n",
       "    quicksort(arr, 0, len(arr) - 1)\n",
       "    print(\"已排序数组： \", arr)\n",
       "\n",
       "\n",
       "if __name__ == \"__main__\":\n",
       "    main()\n",
       "```\n",
       "\n",
       "**输出**\n",
       "\n",
       "```\n",
       "未排序数组：  [64, 34, 25, 12, 22, 11, 90]\n",
       "已排序数组：  [11, 12, 22, 25, 34, 64, 90]\n",
       "```\n",
       "\n",
       "快速排序算法以其平均时间复杂度为O(n log n)，对大型数据集的效率优势尤其明显。然而，根据随机化程度和最差情况下的性能表现可能存在局限性。\n",
       "\n",
       "通过使用选择优良的基准元素策略、使用适当的分区函数，并能有效管理递归过程中的系统调用，这将有助于确保实现高效且可靠的快速排序算法。\n"
      ],
      "text/plain": [
       "<IPython.core.display.Markdown object>"
      ]
     },
     "metadata": {},
     "output_type": "display_data"
    },
    {
     "data": {
      "text/markdown": [
       "## Round 2"
      ],
      "text/plain": [
       "<IPython.core.display.Markdown object>"
      ]
     },
     "metadata": {},
     "output_type": "display_data"
    },
    {
     "data": {
      "text/markdown": [
       "#### 评论反思:\n",
       "- **反馈**\n",
       "\n",
       "首先，感谢您提供的快速排序算法内容！以下是对其结构和内容进行的反馈：\n",
       "\n",
       "### **强项**\n",
       "\n",
       "1.  您的快速排序算法实现了选择基准元素、分区和递归排序三个关键步骤，这些都是快速排序算法的核心组成部分。\n",
       "2.  在实现中，您使用了一个清晰易懂的Python代码示例，展示了如何将快速排序算法应用于实际数据集。\n",
       "\n",
       "### **弱项**\n",
       "\n",
       "1.  算法流程部分缺乏具体细节和图表说明，使得理解起来有一定困难。\n",
       "2.  在选择基准元素部分，您提到了三个选取方法，但没有对每种方法进行详细的比较或分析，导致读者可能感到迷惑。\n",
       "\n",
       "### **建议**\n",
       "\n",
       "1.  为算法流程添加更详细的图表和说明，以帮助读者更好地理解快速排序算法的工作原理。\n",
       "2.  在选择基准元素部分，对每种选取方法进行比较分析，展示其优缺点，并提供实际应用场景。\n",
       "\n",
       "### **改进**\n",
       "\n",
       "1.  将分区函数和递归排序函数独立出来，分别进行详细说明，以便读者更好地理解快速排序算法的各个组成部分。\n",
       "2.  在实现中，可以使用更多的注释和解释来帮助读者理解代码逻辑。\n",
       "\n",
       "通过这些反馈和建议，您可以进一步改进您的内容，使其更加清晰、易懂，并且更全面地展示快速排序算法的优点和局限性。\n"
      ],
      "text/plain": [
       "<IPython.core.display.Markdown object>"
      ]
     },
     "metadata": {},
     "output_type": "display_data"
    },
    {
     "data": {
      "text/markdown": [
       "## Round 3"
      ],
      "text/plain": [
       "<IPython.core.display.Markdown object>"
      ]
     },
     "metadata": {},
     "output_type": "display_data"
    },
    {
     "data": {
      "text/markdown": [
       "#### 内容生成:\n",
       "- **基于反馈的改进**\n",
       "\n",
       "感谢您对我的工作进行了细致入微的反馈！我非常重视这些意见，帮助提高我的内容质量。\n",
       "\n",
       "### **算法流程更详细描述**\n",
       "\n",
       "#### 算法流程概述\n",
       "\n",
       "快速排序（Quicksort）是一种常用的数据排序算法。它通过选择一个基准元素，将其他数据按照这个基准元素进行划分，从而实现快速的排序。在以下的图表中，我将展示快速排序算法的主要流程：\n",
       "\n",
       "```\n",
       "                  +---------------+\n",
       "                  |    基准     |\n",
       "                  |   元素选取    |\n",
       "                  +---------------+\n",
       "                             |\n",
       "                             |\n",
       "                             v\n",
       "                  +---------------+---------------+\n",
       "                  |                       |                       |\n",
       "                  |   分区数据（基准  |   递归排序左、右两|\n",
       "                  | 元素为界限）       |  部分分别进行排序   |\n",
       "                  +---------------+---------------+\n",
       "```\n",
       "\n",
       "#### 基于上述图表的流程描述\n",
       "\n",
       "1. **选取基准元素**：首先，从原始数据中选出一个基准元素。\n",
       "2. **分区数据**：使用选定的基准元素，将剩余的数据按照这个基准元素划分成左右两部分。左边包含所有小于或等于基准元素的数据，右边则是大于基准元素的数据。\n",
       "3. **递归排序**：递归地对这两个子集分别进行快速排序，即选定每个子集的新的基准元素，然后将该集合分割成左、右两部分，并对这两部分分别再次执行快速排序的递归过程。\n",
       "\n",
       "### **选择基准元素分析**\n",
       "\n",
       "#### 介绍三个选取方法\n",
       "\n",
       "1.  **第一个元素**：最简单也是最常用的方式是在选定第一个元素作为基准元素。这种方法在处理较小的数据集时可以获得很好的性能。\n",
       "2.  **中间元素**：一种更有效率的选择方法是先对原始数组进行排序，然后将排序后的序列切成两半，将其中间元素作为基准。这一方法对于数据量较大且要求快速排序的一般场景来说会比较合适。\n",
       "3.  **中位数元素**：这个方法可以通过使用选定中的算法，对一个没有经过排序的数组选择出最靠近中心位置的值作为分界，因此，虽然和中间值类似但是不会被平均到两个区域，所以有时也比前面两种更容易避免因基准值分布不均匀导致的一些性能问题。\n",
       "\n",
       "### **关于这些选取方法比较**\n",
       "\n",
       "每一种选取方法都有各自的优劣：\n",
       "\n",
       "*   最简单但不是最有效：第一个元素选择法，在数据量小且需求很高时比较合适，但由于随机性，平均情况会大幅下降。\n",
       "*   中间和中位数的优点在于他们都对称分布，所以更容易让你避免因基准值本身分布不均匀而导致的一些问题，然而两者的最大不同之处在于：第二个选择需要先进行一个排序过程，因此显然是耗时的。\n",
       "\n",
       "在每一种选择方法中，我们都要根据具体场景和数据来决定哪种更合适。\n",
       "\n",
       "### **更细致的功能实现说明**\n",
       "\n",
       "我将分区函数和递归排序函数独立出来分别给您展示。如下所示：\n",
       "\n",
       "```python\n",
       "# 分区函数\n",
       "def partition(data):\n",
       "    pivot = data[len(data) // 2] \n",
       "    left = [x for x in data if x < pivot]\n",
       "    middle = [x for x in data if x == pivot]\n",
       "    right = [x for x in data if x > pivot]\n",
       "    return left + middle + right\n",
       "\n",
       "# 递归排序函数\n",
       "def recursive_sort(data):\n",
       "    if len(data) <= 1:\n",
       "        return data\n",
       "    else:\n",
       "        # 首先对选定的数据进行分区\n",
       "        sorted_data = partition(data)\n",
       "        \n",
       "        # 然后递归地进行左、右两部分的排序\n",
       "        return quicksort(sorted_data)\n",
       "\n",
       "# 使用递归函数来完成快速排序\n",
       "def quicksort(data):\n",
       "    if len(data) <= 1:\n",
       "        return data\n",
       "    else:\n",
       "        pivot_index = partition(data).index(max(partition(data)))\n",
       "        left_part = data[:pivot_index]\n",
       "        right_part = data[pivot_index + 1:]\n",
       "        \n",
       "        # 递归地进行左、右两部分的排序\n",
       "        sorted_left_part = quicksort(left_part)\n",
       "        sorted_right_part = quicksort(right_part)\n",
       "\n",
       "    return sorted_left_part + [data[pivot_index]] * len(partition(data)) + sorted_right_part\n",
       "\n",
       "```\n",
       "\n",
       "### **在实现中添加注释和解释**\n",
       "\n",
       "我将在这些代码块中提供注释和解释，使得您更好地理解逻辑和细节。\n",
       "\n",
       "```python\n",
       "# 在分区函数中对数据进行分割并得到结果，详见注释1\n",
       "def partition(data):\n",
       "    # 选定基准元素的值\n",
       "    pivot = data[len(data) // 2]\n",
       "    \n",
       "    # 获取大于、等于、小于这个基准元素的子集分别返回即可\n",
       "    left = [x for x in data if x < pivot]     # 大于这个基准的集合，即左部分 \n",
       "    middle = [x for x in data if x == pivot]  # 小于该基准的值，等同于小于该值或等于他 \n",
       "    right = [x for x in data if x > pivot]   # 小于此数列\n",
       "    return left + middle + right\n",
       "    \n",
       "# 递归地进行快速排序，详见注释2    \n",
       "def recursive_sort(data):\n",
       "    if len(data) <= 1:\n",
       "        return data  # 数组中只有一项或空，则是递归的起始点，已经完成，直接返回\n",
       "    else: \n",
       "        # 对选定的数据首先分区，以此时数据中的最中心数为划分界限。\n",
       "        sorted_data = partition(data)\n",
       "        \n",
       "        # 然后递归地进行左、右两部分的排序，详见注释3 \n",
       "        return quicksort(sorted_data)    \n",
       "\n",
       "# 进行快速排序，并返回结果  \n",
       "def quicksort(data):\n",
       "    if len(data) <= 1:\n",
       "        return data\n",
       "    else:    \n",
       "        pivot_index = partition(data).index(max(partition(data)))\n",
       "        \n",
       "        # 将选定的元素作为分界，形成左右两部分 \n",
       "        left_part = data[:pivot_index]\n",
       "        right_part = data[pivot_index + 1:]\n",
       "    \n",
       "        # 递归地进行左、右两部分的排序，并将结果加在一起返回\n",
       "        sorted_left_part = quicksort(left_part)    \n",
       "        sorted_right_part = quicksort(right_part)\n",
       "\n",
       "    return sorted_left_part + [data[pivot_index]] * len(partition(data)) + sorted_right_part\n",
       "    \n",
       "```\n",
       "\n",
       "以上的信息已经改进了快速排序算法的描述。请您在阅读后告诉我哪里有不足之处，给予您的进一步建议，帮助提升我的内容质量！\n",
       "\n",
       "感谢您的反馈和帮助！\n"
      ],
      "text/plain": [
       "<IPython.core.display.Markdown object>"
      ]
     },
     "metadata": {},
     "output_type": "display_data"
    },
    {
     "data": {
      "text/markdown": [
       "## Round 4"
      ],
      "text/plain": [
       "<IPython.core.display.Markdown object>"
      ]
     },
     "metadata": {},
     "output_type": "display_data"
    },
    {
     "data": {
      "text/markdown": [
       "#### 评论反思:\n",
       "- 你的回答很详细，但有一些地方需要进一步的改进：\n",
       "\n",
       "1.  **快速排序算法的描述**：你对快速排序算法进行了非常详细的解释，但是有些地方可能会让读者感到困惑。例如，在 `quicksort` 函数中，你使用了 `partition(data).index(max(partition(data)))` 来获取基准元素的索引，这个部分可能需要进一步的解释。\n",
       "2.  **代码块的注释和解释**：你在代码块中添加了注释，但是有些地方可能需要进一步的解释。例如，在 `partition` 函数中，你使用了列表推导式来获取大于、等于、小于基准元素的子集，这个部分可能需要进一步的解释。\n",
       "3.  **快速排序算法的优劣**：你对快速排序算法进行了比较详细的分析，但是有些地方可能需要进一步的改进。例如，你提到了快速排序算法的平均时间复杂度是 O(n log n)，但是没有具体说明这个结果是如何得到的。\n",
       "\n",
       "以下是一些建议：\n",
       "\n",
       "1.  **进一步解释**：在 `quicksort` 函数中，使用 `partition(data).index(max(partition(data)))` 来获取基准元素的索引可能会让读者感到困惑。可以考虑添加更多的注释或解释来帮助读者理解这个部分。\n",
       "2.  **代码块的注释和解释**：在 `partition` 函数中，使用列表推导式来获取大于、等于、小于基准元素的子集可能需要进一步的解释。可以考虑添加更多的注释或解释来帮助读者理解这个部分。\n",
       "3.  **快速排序算法的优劣**：在对快速排序算法进行比较详细的分析时，可以考虑添加更多的信息来帮助读者理解这个结果是如何得到的。\n",
       "\n",
       "以下是一些具体的建议：\n",
       "\n",
       "1.  在 `quicksort` 函数中，使用 `partition(data).index(max(partition(data)))` 来获取基准元素的索引时，可以添加一个注释，如下所示：\n",
       "    ```python\n",
       "# 获取基准元素的索引\n",
       "pivot_index = partition(data).index(max(partition(data)))\n",
       "```\n",
       "2.  在 `partition` 函数中，使用列表推导式来获取大于、等于、小于基准元素的子集时，可以添加一个注释，如下所示：\n",
       "    ```python\n",
       "# 获取大于、等于、小于基准元素的子集\n",
       "left = [x for x in data if x < pivot]\n",
       "middle = [x for x in data if x == pivot]\n",
       "right = [x for x in data if x > pivot]\n",
       "```\n",
       "3.  在对快速排序算法进行比较详细的分析时，可以添加更多的信息来帮助读者理解这个结果是如何得到的。例如，可以添加一个注释，如下所示：\n",
       "    ```python\n",
       "# 快速排序算法的平均时间复杂度是 O(n log n)，因为在每次递归中，数据量都会减半。\n",
       "```\n",
       "\n",
       "以上是一些具体的建议。如果您有任何疑问或需要进一步的帮助，请随时告诉我！\n"
      ],
      "text/plain": [
       "<IPython.core.display.Markdown object>"
      ]
     },
     "metadata": {},
     "output_type": "display_data"
    },
    {
     "data": {
      "text/markdown": [
       "## Round 5"
      ],
      "text/plain": [
       "<IPython.core.display.Markdown object>"
      ]
     },
     "metadata": {},
     "output_type": "display_data"
    },
    {
     "data": {
      "text/markdown": [
       "#### 内容生成:\n",
       "- 感谢您的详细反馈和建议！以下是经过修改后的内容：\n",
       "\n",
       "快速排序算法的描述\n",
       "------------------\n",
       "\n",
       "快速排序（Quicksort）是一种流行的排序算法，效率高且稳定性好。它通过选择一个基准元素，并将其他元素分成两部分，根据基准元素大小进行递归排序。\n",
       "\n",
       "### 快速排序函数\n",
       "\n",
       "```python\n",
       "def quicksort(data):\n",
       "    # 获取基准元素的索引\n",
       "    pivot_index = partition(data).index(max(partition(data)))\n",
       "\n",
       "    # 获取基准元素\n",
       "    pivot = partition(data)[pivot_index]\n",
       "\n",
       "    # 获取大于、等于、小于基准元素的子集\n",
       "    left = [x for x in data if x < pivot]\n",
       "    middle = [x for x in data if x == pivot]\n",
       "    right = [x for x in data if x > pivot]\n",
       "\n",
       "    # 递归排序左、右子集\n",
       "    return quicksort(left) + middle + quicksort(right)\n",
       "```\n",
       "\n",
       "### 分区函数\n",
       "\n",
       "```python\n",
       "def partition(data):\n",
       "    \"\"\"\n",
       "    分区函数，获取大于、等于、小于基准元素的子集。\n",
       "    \"\"\"\n",
       "    return [data[0]]\n",
       "```\n",
       "\n",
       "快速排序算法的优劣\n",
       "------------------\n",
       "\n",
       "快速排序算法是最流行的排序算法之一，因为它平均时间复杂度是 O(n log n)。这是因为在每次递归中，数据量都会减半。\n",
       "\n",
       "# 快速排序算法的平均时间复杂度是 O(n log n)，因为在每次递归中，数据量都会减半。\n",
       "快速排序算法对输入序列有稳定性的问题，因为当两个值相等时，它可能会导致不正确的结果。因此，在某些情况下，可以使用其他排序算法如归并排序（Merge sort）。\n",
       "\n",
       "### 小结\n",
       "\n",
       "快速排序算法是最流行的排序算法之一，平均时间复杂度为 O(n log n)，稳定性较差，但对于大部分输入序列仍然是有效的。\n",
       "\n",
       "希望经过您的反馈和建议后，我能够进一步改进内容。感谢您的帮助！\n"
      ],
      "text/plain": [
       "<IPython.core.display.Markdown object>"
      ]
     },
     "metadata": {},
     "output_type": "display_data"
    },
    {
     "data": {
      "text/markdown": [
       "## Round 6"
      ],
      "text/plain": [
       "<IPython.core.display.Markdown object>"
      ]
     },
     "metadata": {},
     "output_type": "display_data"
    },
    {
     "data": {
      "text/markdown": [
       "#### 评论反思:\n",
       "- 你的修改后的内容看起来很好！以下是一些具体的反馈：\n",
       "\n",
       "1.  **快速排序函数**：你对 `quicksort` 函数进行了详细的解释，但是有些地方可能需要进一步的改进。例如，在获取基准元素时，你使用了 `partition(data).index(max(partition(data)))` 来获取基准元素的索引，这个部分可能需要进一步的解释。\n",
       "2.  **分区函数**：你对 `partition` 函数进行了解释，但是这个函数实际上应该返回一个列表，而不是单独的一个值。可以考虑修改这个函数来返回一个列表。\n",
       "3.  **快速排序算法的优劣**：你对快速排序算法进行了比较详细的分析，但是有些地方可能需要进一步的改进。例如，你提到了快速排序算法的平均时间复杂度是 O(n log n)，但是没有具体说明这个结果是如何得到的。\n",
       "\n",
       "以下是一些建议：\n",
       "\n",
       "1.  **进一步解释**：在获取基准元素时，你使用了 `partition(data).index(max(partition(data)))` 来获取基准元素的索引可能会让读者感到困惑。可以考虑添加更多的注释或解释来帮助读者理解这个部分。\n",
       "2.  **分区函数的修改**：你对 `partition` 函数进行了解释，但是这个函数实际上应该返回一个列表，而不是单独的一个值。可以考虑修改这个函数来返回一个列表。\n",
       "3.  **快速排序算法的优劣**：在对快速排序算法进行比较详细的分析时，可以考虑添加更多的信息来帮助读者理解这个结果是如何得到的。\n",
       "\n",
       "以下是一些具体的建议：\n",
       "\n",
       "1.  在获取基准元素时，你使用了 `partition(data).index(max(partition(data)))` 来获取基准元素的索引时，可以添加一个注释，如下所示：\n",
       "    ```python\n",
       "# 获取基准元素的索引\n",
       "pivot_index = partition(data).index(max(partition(data)))\n",
       "```\n",
       "2.  在 `partition` 函数中，你可以修改这个函数来返回一个列表，而不是单独的一个值。例如：\n",
       "    ```python\n",
       "def partition(data):\n",
       "    \"\"\"\n",
       "    分区函数，获取大于、等于、小于基准元素的子集。\n",
       "    \"\"\"\n",
       "    return [x for x in data]\n",
       "```\n",
       "3.  在对快速排序算法进行比较详细的分析时，可以添加更多的信息来帮助读者理解这个结果是如何得到的。例如：\n",
       "    ```python\n",
       "# 快速排序算法的平均时间复杂度是 O(n log n)，因为在每次递归中，数据量都会减半。\n",
       "# 这个结果是通过数学证明得出的，具体可以参考快速排序算法的理论分析。\n",
       "```\n",
       "\n",
       "以上是一些建议。如果您有任何疑问或需要进一步的帮助，请随时告诉我！\n"
      ],
      "text/plain": [
       "<IPython.core.display.Markdown object>"
      ]
     },
     "metadata": {},
     "output_type": "display_data"
    },
    {
     "data": {
      "text/markdown": [
       "## Round 7"
      ],
      "text/plain": [
       "<IPython.core.display.Markdown object>"
      ]
     },
     "metadata": {},
     "output_type": "display_data"
    },
    {
     "data": {
      "text/markdown": [
       "#### 内容生成:\n",
       "- 感谢您的反馈和建议！以下是经过修改后的内容：\n",
       "\n",
       "快速排序算法的描述\n",
       "------------------\n",
       "\n",
       "快速排序（Quicksort）是一种流行的排序算法，效率高且稳定性好。它通过选择一个基准元素，并将其他元素分成两部分，根据基准元素大小进行递归排序。\n",
       "\n",
       "### 快速排序函数\n",
       "\n",
       "```python\n",
       "def quicksort(data):\n",
       "    # 获取数据总长度\n",
       "    n = len(data)\n",
       "\n",
       "    # 如果数据长度小于或等于 1，则直接返回\n",
       "    if n <= 1:\n",
       "        return data\n",
       "\n",
       "    # 获取基准元素的索引\n",
       "    pivot_index = partition(data, 0, n - 1)\n",
       "\n",
       "    # 根据基准元素，将其他元素分成两部分\n",
       "    left = quicksort(data[:pivot_index])\n",
       "    right = quicksort(data[pivot_index + 1:])\n",
       "\n",
       "    # 返回最终结果\n",
       "    return left + [data[pivot_index]] + right\n",
       "```\n",
       "\n",
       "### 分区函数\n",
       "\n",
       "```python\n",
       "def partition(data, low, high):\n",
       "    \"\"\"\n",
       "    分区函数，获取大于、等于、小于基准元素的子集。\n",
       "    \"\"\"\n",
       "    i = (low - 1)\n",
       "    pivot = data[high]\n",
       "\n",
       "    for j in range(low, high):\n",
       "        if data[j] < pivot:\n",
       "            i += 1\n",
       "            data[i], data[j] = data[j], data[i]\n",
       "\n",
       "    data[i + 1], data[high] = data[high], data[i + 1]\n",
       "    return (i + 1)\n",
       "```\n",
       "\n",
       "快速排序算法的优劣\n",
       "------------------\n",
       "\n",
       "快速排序算法是最流行的排序算法之一，因为它平均时间复杂度是 O(n log n)。这是因为在每次递归中，数据量都会减半。\n",
       "\n",
       "# 快速排序算法的平均时间复杂度是 O(n log n)，因为在每次递归中，数据量都会减半。\n",
       "这个结果是通过数学证明得出的，具体可以参考快速排序算法的理论分析。快速排序算法对输入序列有稳定性的问题，因为当两个值相等时，它可能会导致不正确的结果。因此，在某些情况下，可以使用其他排序算法如归并排序（Merge sort）。\n",
       "\n",
       "### 小结\n",
       "\n",
       "快速排序算法是最流行的排序算法之一，平均时间复杂度为 O(n log n)，稳定性较差，但对于大部分输入序列仍然是有效的。\n",
       "\n",
       "希望经过您的反馈和建议后，我能够进一步改进内容。感谢您的帮助！\n"
      ],
      "text/plain": [
       "<IPython.core.display.Markdown object>"
      ]
     },
     "metadata": {},
     "output_type": "display_data"
    }
   ],
   "source": [
    "inputs = {\n",
    "    \"messages\": [\n",
    "        HumanMessage(content=\"编写一个高效的快速排序算法\")\n",
    "    ],\n",
    "}\n",
    "\n",
    "config = {\"configurable\": {\"thread_id\": \"1\"}}\n",
    "\n",
    "async for event in graph.astream(inputs, config):\n",
    "    pretty_print_event_markdown(event)\n"
   ]
  },
  {
   "cell_type": "code",
   "execution_count": null,
   "id": "44173cab-4e51-4bd7-8c97-a28748e159a4",
   "metadata": {},
   "outputs": [],
   "source": [
    "inputs = {\n",
    "    \"messages\": [\n",
    "        HumanMessage(content=\"编写代码从https://www.ainewsletter.com/，获取数据，按日期生成md文件, 保存到本地，内容为blog的标题和链接，并调用大模型生成当日报告，保存在本地md文件中\")\n",
    "    ],\n",
    "}\n",
    "\n",
    "config = {\"configurable\": {\"thread_id\": \"1\"}}\n",
    "\n",
    "async for event in graph.astream(inputs, config):\n",
    "    pretty_print_event_markdown(event)\n"
   ]
  },
  {
   "cell_type": "code",
   "execution_count": null,
   "id": "106f693e-441e-4536-8459-8042b34e4a2f",
   "metadata": {},
   "outputs": [],
   "source": []
  },
  {
   "cell_type": "code",
   "execution_count": null,
   "id": "6f0e9c24-7cf7-42fa-be13-fbfebfdad5ee",
   "metadata": {},
   "outputs": [],
   "source": []
  },
  {
   "cell_type": "markdown",
   "id": "f8a5187b-6b3b-4266-a226-f1e56e5ad350",
   "metadata": {},
   "source": [
    "## Homework: \n",
    "\n",
    "1. 扩展本指南的 Reflection Agent，使其能够完成更通用的生成任务，包括但不限于代码、报告等；\n",
    "2. 使用扩展后的 Reflection Agent 生成代码，实现在 GitHubSentinel 上新增一个信息渠道。"
   ]
  },
  {
   "cell_type": "code",
   "execution_count": null,
   "id": "1c4b745d-ce5b-4a90-a3e8-64ecb3499c73",
   "metadata": {},
   "outputs": [],
   "source": []
  },
  {
   "cell_type": "code",
   "execution_count": null,
   "id": "6affbb4d-f154-43e6-ae3d-d6a5dcd6e9f5",
   "metadata": {},
   "outputs": [],
   "source": []
  },
  {
   "cell_type": "markdown",
   "id": "0f9e0b07-62a8-430b-bf01-b7d8c07dd6e5",
   "metadata": {},
   "source": [
    "### 如何让 Reflection `System Prompt` 更加通用：\n",
    "\n",
    "如果你想让这个 `System Prompt` 适用于更广泛的内容评估场景，不局限于作文，你可以做一些轻微的调整。例如：\n",
    "\n",
    "```python\n",
    "reflection_prompt = ChatPromptTemplate.from_messages(\n",
    "    [\n",
    "        (\n",
    "            \"system\",\n",
    "            \"You are a reviewer tasked with providing constructive critique and improvement suggestions for the user's submission.\"\n",
    "            \" Offer detailed feedback, including recommendations on clarity, structure, content depth, and style, as well as areas for improvement.\",\n",
    "        ),\n",
    "        MessagesPlaceholder(variable_name=\"messages\"),\n",
    "    ]\n",
    ")\n",
    "```\n",
    "\n",
    "### 修改后的变化：\n",
    "1. **角色定位更广泛**：从“老师”改为“审阅者”，这样不局限于评估作文，适用于各种类型的内容，包括文章、报告、甚至代码审查。\n",
    "  \n",
    "2. **批评与改进建议的灵活性**：从作文的“长度、深度、风格”拓展为“清晰度、结构、内容深度、风格”，这使得反馈更加多样化，适用于不同的内容类型。\n",
    "\n",
    "通过这种方式，可以让模型在更多场景下提供高质量的评估和反馈。"
   ]
  },
  {
   "cell_type": "code",
   "execution_count": null,
   "id": "e5b78d64-791c-484c-922d-d00a01b78a1c",
   "metadata": {},
   "outputs": [],
   "source": []
  }
 ],
 "metadata": {
  "kernelspec": {
   "display_name": "Python 3 (ipykernel)",
   "language": "python",
   "name": "python3"
  },
  "language_info": {
   "codemirror_mode": {
    "name": "ipython",
    "version": 3
   },
   "file_extension": ".py",
   "mimetype": "text/x-python",
   "name": "python",
   "nbconvert_exporter": "python",
   "pygments_lexer": "ipython3",
   "version": "3.11.9"
  }
 },
 "nbformat": 4,
 "nbformat_minor": 5
}
